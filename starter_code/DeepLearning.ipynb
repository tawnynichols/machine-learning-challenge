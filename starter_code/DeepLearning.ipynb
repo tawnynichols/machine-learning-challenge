{
 "cells": [
  {
   "cell_type": "code",
   "execution_count": 1,
   "metadata": {},
   "outputs": [
    {
     "name": "stderr",
     "output_type": "stream",
     "text": [
      "C:\\Users\\tawnyn\\Anaconda3\\lib\\site-packages\\tensorflow\\python\\framework\\dtypes.py:516: FutureWarning: Passing (type, 1) or '1type' as a synonym of type is deprecated; in a future version of numpy, it will be understood as (type, (1,)) / '(1,)type'.\n",
      "  _np_qint8 = np.dtype([(\"qint8\", np.int8, 1)])\n",
      "C:\\Users\\tawnyn\\Anaconda3\\lib\\site-packages\\tensorflow\\python\\framework\\dtypes.py:517: FutureWarning: Passing (type, 1) or '1type' as a synonym of type is deprecated; in a future version of numpy, it will be understood as (type, (1,)) / '(1,)type'.\n",
      "  _np_quint8 = np.dtype([(\"quint8\", np.uint8, 1)])\n",
      "C:\\Users\\tawnyn\\Anaconda3\\lib\\site-packages\\tensorflow\\python\\framework\\dtypes.py:518: FutureWarning: Passing (type, 1) or '1type' as a synonym of type is deprecated; in a future version of numpy, it will be understood as (type, (1,)) / '(1,)type'.\n",
      "  _np_qint16 = np.dtype([(\"qint16\", np.int16, 1)])\n",
      "C:\\Users\\tawnyn\\Anaconda3\\lib\\site-packages\\tensorflow\\python\\framework\\dtypes.py:519: FutureWarning: Passing (type, 1) or '1type' as a synonym of type is deprecated; in a future version of numpy, it will be understood as (type, (1,)) / '(1,)type'.\n",
      "  _np_quint16 = np.dtype([(\"quint16\", np.uint16, 1)])\n",
      "C:\\Users\\tawnyn\\Anaconda3\\lib\\site-packages\\tensorflow\\python\\framework\\dtypes.py:520: FutureWarning: Passing (type, 1) or '1type' as a synonym of type is deprecated; in a future version of numpy, it will be understood as (type, (1,)) / '(1,)type'.\n",
      "  _np_qint32 = np.dtype([(\"qint32\", np.int32, 1)])\n",
      "C:\\Users\\tawnyn\\Anaconda3\\lib\\site-packages\\tensorflow\\python\\framework\\dtypes.py:525: FutureWarning: Passing (type, 1) or '1type' as a synonym of type is deprecated; in a future version of numpy, it will be understood as (type, (1,)) / '(1,)type'.\n",
      "  np_resource = np.dtype([(\"resource\", np.ubyte, 1)])\n",
      "C:\\Users\\tawnyn\\Anaconda3\\lib\\site-packages\\tensorboard\\compat\\tensorflow_stub\\dtypes.py:541: FutureWarning: Passing (type, 1) or '1type' as a synonym of type is deprecated; in a future version of numpy, it will be understood as (type, (1,)) / '(1,)type'.\n",
      "  _np_qint8 = np.dtype([(\"qint8\", np.int8, 1)])\n",
      "C:\\Users\\tawnyn\\Anaconda3\\lib\\site-packages\\tensorboard\\compat\\tensorflow_stub\\dtypes.py:542: FutureWarning: Passing (type, 1) or '1type' as a synonym of type is deprecated; in a future version of numpy, it will be understood as (type, (1,)) / '(1,)type'.\n",
      "  _np_quint8 = np.dtype([(\"quint8\", np.uint8, 1)])\n",
      "C:\\Users\\tawnyn\\Anaconda3\\lib\\site-packages\\tensorboard\\compat\\tensorflow_stub\\dtypes.py:543: FutureWarning: Passing (type, 1) or '1type' as a synonym of type is deprecated; in a future version of numpy, it will be understood as (type, (1,)) / '(1,)type'.\n",
      "  _np_qint16 = np.dtype([(\"qint16\", np.int16, 1)])\n",
      "C:\\Users\\tawnyn\\Anaconda3\\lib\\site-packages\\tensorboard\\compat\\tensorflow_stub\\dtypes.py:544: FutureWarning: Passing (type, 1) or '1type' as a synonym of type is deprecated; in a future version of numpy, it will be understood as (type, (1,)) / '(1,)type'.\n",
      "  _np_quint16 = np.dtype([(\"quint16\", np.uint16, 1)])\n",
      "C:\\Users\\tawnyn\\Anaconda3\\lib\\site-packages\\tensorboard\\compat\\tensorflow_stub\\dtypes.py:545: FutureWarning: Passing (type, 1) or '1type' as a synonym of type is deprecated; in a future version of numpy, it will be understood as (type, (1,)) / '(1,)type'.\n",
      "  _np_qint32 = np.dtype([(\"qint32\", np.int32, 1)])\n",
      "C:\\Users\\tawnyn\\Anaconda3\\lib\\site-packages\\tensorboard\\compat\\tensorflow_stub\\dtypes.py:550: FutureWarning: Passing (type, 1) or '1type' as a synonym of type is deprecated; in a future version of numpy, it will be understood as (type, (1,)) / '(1,)type'.\n",
      "  np_resource = np.dtype([(\"resource\", np.ubyte, 1)])\n"
     ]
    },
    {
     "ename": "AttributeError",
     "evalue": "module 'tensorflow._api.v1.random' has no attribute 'set_seed'",
     "output_type": "error",
     "traceback": [
      "\u001b[1;31m---------------------------------------------------------------------------\u001b[0m",
      "\u001b[1;31mAttributeError\u001b[0m                            Traceback (most recent call last)",
      "\u001b[1;32m<ipython-input-1-69627e711cf6>\u001b[0m in \u001b[0;36m<module>\u001b[1;34m\u001b[0m\n\u001b[0;32m      3\u001b[0m \u001b[0mseed\u001b[0m\u001b[1;33m(\u001b[0m\u001b[1;36m1\u001b[0m\u001b[1;33m)\u001b[0m\u001b[1;33m\u001b[0m\u001b[1;33m\u001b[0m\u001b[0m\n\u001b[0;32m      4\u001b[0m \u001b[1;32mfrom\u001b[0m \u001b[0mtensorflow\u001b[0m \u001b[1;32mimport\u001b[0m \u001b[0mrandom\u001b[0m\u001b[1;33m\u001b[0m\u001b[1;33m\u001b[0m\u001b[0m\n\u001b[1;32m----> 5\u001b[1;33m \u001b[0mrandom\u001b[0m\u001b[1;33m.\u001b[0m\u001b[0mset_seed\u001b[0m\u001b[1;33m(\u001b[0m\u001b[1;36m1\u001b[0m\u001b[1;33m)\u001b[0m\u001b[1;33m\u001b[0m\u001b[1;33m\u001b[0m\u001b[0m\n\u001b[0m",
      "\u001b[1;32m~\\Anaconda3\\lib\\site-packages\\tensorflow\\python\\util\\deprecation_wrapper.py\u001b[0m in \u001b[0;36m__getattr__\u001b[1;34m(self, name)\u001b[0m\n\u001b[0;32m    104\u001b[0m     \u001b[1;32mif\u001b[0m \u001b[0mname\u001b[0m\u001b[1;33m.\u001b[0m\u001b[0mstartswith\u001b[0m\u001b[1;33m(\u001b[0m\u001b[1;34m'_dw_'\u001b[0m\u001b[1;33m)\u001b[0m\u001b[1;33m:\u001b[0m\u001b[1;33m\u001b[0m\u001b[1;33m\u001b[0m\u001b[0m\n\u001b[0;32m    105\u001b[0m       \u001b[1;32mraise\u001b[0m \u001b[0mAttributeError\u001b[0m\u001b[1;33m(\u001b[0m\u001b[1;34m'Accessing local variables before they are created.'\u001b[0m\u001b[1;33m)\u001b[0m\u001b[1;33m\u001b[0m\u001b[1;33m\u001b[0m\u001b[0m\n\u001b[1;32m--> 106\u001b[1;33m     \u001b[0mattr\u001b[0m \u001b[1;33m=\u001b[0m \u001b[0mgetattr\u001b[0m\u001b[1;33m(\u001b[0m\u001b[0mself\u001b[0m\u001b[1;33m.\u001b[0m\u001b[0m_dw_wrapped_module\u001b[0m\u001b[1;33m,\u001b[0m \u001b[0mname\u001b[0m\u001b[1;33m)\u001b[0m\u001b[1;33m\u001b[0m\u001b[1;33m\u001b[0m\u001b[0m\n\u001b[0m\u001b[0;32m    107\u001b[0m     if (self._dw_warning_count < _PER_MODULE_WARNING_LIMIT and\n\u001b[0;32m    108\u001b[0m         name not in self._dw_deprecated_printed):\n",
      "\u001b[1;31mAttributeError\u001b[0m: module 'tensorflow._api.v1.random' has no attribute 'set_seed'"
     ]
    }
   ],
   "source": [
    "# Read in data\n",
    "df = pd.read_csv(\"exoplanet_data.csv\")\n",
    "# Drop the null columns where all values are null\n",
    "df = df.dropna(axis='columns', how='all')\n",
    "# Drop the null rows\n",
    "df = df.dropna()\n",
    "df.head()"
   ]
  },
  {
   "cell_type": "code",
   "execution_count": 2,
   "metadata": {},
   "outputs": [],
   "source": [
    "# Set features. This will also be used as your x values.\n",
    "selected_features = df.iloc[:, 1:42]"
   ]
  },
  {
   "cell_type": "code",
   "execution_count": 3,
   "metadata": {},
   "outputs": [],
   "source": [
    "X = selected_features\n",
    "y = df[\"koi_disposition\"].values.reshape(-1, 1)\n",
    "print(X.shape, y.shape)"
   ]
  },
  {
   "cell_type": "code",
   "execution_count": 5,
   "metadata": {
    "nbgrader": {
     "grade": false,
     "grade_id": "cell-25fb99ba413a3271",
     "locked": false,
     "schema_version": 1,
     "solution": true
    }
   },
   "outputs": [],
   "source": [
    "# Use train_test_split to create training and testing data\n",
    "from sklearn.model_selection import train_test_split\n",
    "X = pd.get_dummies(X)\n",
    "\n",
    "X_train, X_test, y_train, y_test = train_test_split(X, y, random_state=42)\n",
    "\n",
    "X_train.head()"
   ]
  },
  {
   "cell_type": "code",
   "execution_count": 6,
   "metadata": {
    "nbgrader": {
     "grade": false,
     "grade_id": "cell-7e1de5d9b7942f68",
     "locked": false,
     "schema_version": 1,
     "solution": true
    }
   },
   "outputs": [],
   "source": [
    "from sklearn.preprocessing import StandardScaler\n",
    "\n",
    "# Create a StandardScater model and fit it to the training data\n",
    "X_scaler = StandardScaler().fit(X_train)"
   ]
  },
  {
   "cell_type": "code",
   "execution_count": 7,
   "metadata": {
    "nbgrader": {
     "grade": false,
     "grade_id": "cell-9532e12246e485d5",
     "locked": false,
     "schema_version": 1,
     "solution": true
    }
   },
   "outputs": [],
   "source": [
    "# Transform the training and testing data using the X_scaler\n",
    "\n",
    "X_train_scaled = X_scaler.transform(X_train)\n",
    "X_test_scaled = X_scaler.transform(X_test)"
   ]
  },
  {
   "cell_type": "code",
   "execution_count": 8,
   "metadata": {},
   "outputs": [],
   "source": [
    "from tensorflow.keras.utils import to_categorical"
   ]
  },
  {
   "cell_type": "code",
   "execution_count": 9,
   "metadata": {},
   "outputs": [],
   "source": [
    "# One-hot encoding\n",
    "y_train_categorical = to_categorical(y_train)\n",
    "y_test_categorical = to_categorical(y_test)"
   ]
  },
  {
   "cell_type": "code",
   "execution_count": 10,
   "metadata": {
    "nbgrader": {
     "grade": false,
     "grade_id": "cell-ec399a95e133cb58",
     "locked": false,
     "schema_version": 1,
     "solution": true
    }
   },
   "outputs": [
    {
     "name": "stdout",
     "output_type": "stream",
     "text": [
      "WARNING:tensorflow:From C:\\Users\\tawnyn\\Anaconda3\\lib\\site-packages\\tensorflow\\python\\ops\\init_ops.py:1251: calling VarianceScaling.__init__ (from tensorflow.python.ops.init_ops) with dtype is deprecated and will be removed in a future version.\n",
      "Instructions for updating:\n",
      "Call initializer instance with the dtype argument instead of passing it to the constructor\n"
     ]
    }
   ],
   "source": [
    "# first, create a normal neural network with 2 inputs, 6 hidden nodes, and 2 outputs\n",
    "from tensorflow.keras.models import Sequential\n",
    "from tensorflow.keras.layers import Dense\n",
    "\n",
    "model = Sequential()\n",
    "model.add(Dense(units=6, activation='relu', input_dim=2))\n",
    "model.add(Dense(units=2, activation='softmax'))"
   ]
  },
  {
   "cell_type": "code",
   "execution_count": 11,
   "metadata": {},
   "outputs": [
    {
     "name": "stdout",
     "output_type": "stream",
     "text": [
      "Model: \"sequential\"\n",
      "_________________________________________________________________\n",
      "Layer (type)                 Output Shape              Param #   \n",
      "=================================================================\n",
      "dense (Dense)                (None, 6)                 18        \n",
      "_________________________________________________________________\n",
      "dense_1 (Dense)              (None, 2)                 14        \n",
      "=================================================================\n",
      "Total params: 32\n",
      "Trainable params: 32\n",
      "Non-trainable params: 0\n",
      "_________________________________________________________________\n"
     ]
    }
   ],
   "source": [
    "model.summary()"
   ]
  },
  {
   "cell_type": "code",
   "execution_count": 12,
   "metadata": {},
   "outputs": [],
   "source": [
    "# Compile the model\n",
    "model.compile(optimizer='adam',\n",
    "              loss='categorical_crossentropy',\n",
    "              metrics=['accuracy'])"
   ]
  },
  {
   "cell_type": "code",
   "execution_count": 13,
   "metadata": {
    "nbgrader": {
     "grade": false,
     "grade_id": "cell-5cf2fbdbea0ed50b",
     "locked": false,
     "schema_version": 1,
     "solution": true
    }
   },
   "outputs": [
    {
     "name": "stdout",
     "output_type": "stream",
     "text": [
      "Epoch 1/100\n",
      "75/75 - 0s - loss: 0.7449 - acc: 0.4667\n",
      "Epoch 2/100\n",
      "75/75 - 0s - loss: 0.7401 - acc: 0.4533\n",
      "Epoch 3/100\n",
      "75/75 - 0s - loss: 0.7361 - acc: 0.4400\n",
      "Epoch 4/100\n",
      "75/75 - 0s - loss: 0.7315 - acc: 0.4400\n",
      "Epoch 5/100\n",
      "75/75 - 0s - loss: 0.7273 - acc: 0.4400\n",
      "Epoch 6/100\n",
      "75/75 - 0s - loss: 0.7235 - acc: 0.4267\n",
      "Epoch 7/100\n",
      "75/75 - 0s - loss: 0.7191 - acc: 0.4133\n",
      "Epoch 8/100\n",
      "75/75 - 0s - loss: 0.7156 - acc: 0.4000\n",
      "Epoch 9/100\n",
      "75/75 - 0s - loss: 0.7113 - acc: 0.4000\n",
      "Epoch 10/100\n",
      "75/75 - 0s - loss: 0.7084 - acc: 0.4000\n",
      "Epoch 11/100\n",
      "75/75 - 0s - loss: 0.7045 - acc: 0.4000\n",
      "Epoch 12/100\n",
      "75/75 - 0s - loss: 0.7013 - acc: 0.3600\n",
      "Epoch 13/100\n",
      "75/75 - 0s - loss: 0.6979 - acc: 0.3600\n",
      "Epoch 14/100\n",
      "75/75 - 0s - loss: 0.6945 - acc: 0.3600\n",
      "Epoch 15/100\n",
      "75/75 - 0s - loss: 0.6912 - acc: 0.3600\n",
      "Epoch 16/100\n",
      "75/75 - 0s - loss: 0.6883 - acc: 0.3600\n",
      "Epoch 17/100\n",
      "75/75 - 0s - loss: 0.6857 - acc: 0.3467\n",
      "Epoch 18/100\n",
      "75/75 - 0s - loss: 0.6825 - acc: 0.3467\n",
      "Epoch 19/100\n",
      "75/75 - 0s - loss: 0.6796 - acc: 0.3467\n",
      "Epoch 20/100\n",
      "75/75 - 0s - loss: 0.6768 - acc: 0.3600\n",
      "Epoch 21/100\n",
      "75/75 - 0s - loss: 0.6743 - acc: 0.3733\n",
      "Epoch 22/100\n",
      "75/75 - 0s - loss: 0.6715 - acc: 0.3733\n",
      "Epoch 23/100\n",
      "75/75 - 0s - loss: 0.6688 - acc: 0.3867\n",
      "Epoch 24/100\n",
      "75/75 - 0s - loss: 0.6660 - acc: 0.4000\n",
      "Epoch 25/100\n",
      "75/75 - 0s - loss: 0.6637 - acc: 0.4000\n",
      "Epoch 26/100\n",
      "75/75 - 0s - loss: 0.6610 - acc: 0.4000\n",
      "Epoch 27/100\n",
      "75/75 - 0s - loss: 0.6588 - acc: 0.4000\n",
      "Epoch 28/100\n",
      "75/75 - 0s - loss: 0.6559 - acc: 0.4000\n",
      "Epoch 29/100\n",
      "75/75 - 0s - loss: 0.6538 - acc: 0.4133\n",
      "Epoch 30/100\n",
      "75/75 - 0s - loss: 0.6510 - acc: 0.4133\n",
      "Epoch 31/100\n",
      "75/75 - 0s - loss: 0.6487 - acc: 0.4133\n",
      "Epoch 32/100\n",
      "75/75 - 0s - loss: 0.6463 - acc: 0.4133\n",
      "Epoch 33/100\n",
      "75/75 - 0s - loss: 0.6440 - acc: 0.4267\n",
      "Epoch 34/100\n",
      "75/75 - 0s - loss: 0.6418 - acc: 0.4267\n",
      "Epoch 35/100\n",
      "75/75 - 0s - loss: 0.6395 - acc: 0.4267\n",
      "Epoch 36/100\n",
      "75/75 - 0s - loss: 0.6371 - acc: 0.4267\n",
      "Epoch 37/100\n",
      "75/75 - 0s - loss: 0.6349 - acc: 0.4267\n",
      "Epoch 38/100\n",
      "75/75 - 0s - loss: 0.6327 - acc: 0.4400\n",
      "Epoch 39/100\n",
      "75/75 - 0s - loss: 0.6304 - acc: 0.4400\n",
      "Epoch 40/100\n",
      "75/75 - 0s - loss: 0.6281 - acc: 0.4400\n",
      "Epoch 41/100\n",
      "75/75 - 0s - loss: 0.6262 - acc: 0.4400\n",
      "Epoch 42/100\n",
      "75/75 - 0s - loss: 0.6239 - acc: 0.4400\n",
      "Epoch 43/100\n",
      "75/75 - 0s - loss: 0.6218 - acc: 0.4400\n",
      "Epoch 44/100\n",
      "75/75 - 0s - loss: 0.6197 - acc: 0.4400\n",
      "Epoch 45/100\n",
      "75/75 - 0s - loss: 0.6177 - acc: 0.4533\n",
      "Epoch 46/100\n",
      "75/75 - 0s - loss: 0.6156 - acc: 0.4533\n",
      "Epoch 47/100\n",
      "75/75 - 0s - loss: 0.6136 - acc: 0.4533\n",
      "Epoch 48/100\n",
      "75/75 - 0s - loss: 0.6117 - acc: 0.4667\n",
      "Epoch 49/100\n",
      "75/75 - 0s - loss: 0.6099 - acc: 0.4667\n",
      "Epoch 50/100\n",
      "75/75 - 0s - loss: 0.6079 - acc: 0.4667\n",
      "Epoch 51/100\n",
      "75/75 - 0s - loss: 0.6060 - acc: 0.4533\n",
      "Epoch 52/100\n",
      "75/75 - 0s - loss: 0.6043 - acc: 0.4933\n",
      "Epoch 53/100\n",
      "75/75 - 0s - loss: 0.6023 - acc: 0.4933\n",
      "Epoch 54/100\n",
      "75/75 - 0s - loss: 0.6005 - acc: 0.5200\n",
      "Epoch 55/100\n",
      "75/75 - 0s - loss: 0.5986 - acc: 0.5333\n",
      "Epoch 56/100\n",
      "75/75 - 0s - loss: 0.5968 - acc: 0.5333\n",
      "Epoch 57/100\n",
      "75/75 - 0s - loss: 0.5948 - acc: 0.5333\n",
      "Epoch 58/100\n",
      "75/75 - 0s - loss: 0.5929 - acc: 0.5333\n",
      "Epoch 59/100\n",
      "75/75 - 0s - loss: 0.5912 - acc: 0.5333\n",
      "Epoch 60/100\n",
      "75/75 - 0s - loss: 0.5893 - acc: 0.5333\n",
      "Epoch 61/100\n",
      "75/75 - 0s - loss: 0.5876 - acc: 0.5333\n",
      "Epoch 62/100\n",
      "75/75 - 0s - loss: 0.5858 - acc: 0.5467\n",
      "Epoch 63/100\n",
      "75/75 - 0s - loss: 0.5840 - acc: 0.5733\n",
      "Epoch 64/100\n",
      "75/75 - 0s - loss: 0.5823 - acc: 0.6133\n",
      "Epoch 65/100\n",
      "75/75 - 0s - loss: 0.5807 - acc: 0.6133\n",
      "Epoch 66/100\n",
      "75/75 - 0s - loss: 0.5789 - acc: 0.6267\n",
      "Epoch 67/100\n",
      "75/75 - 0s - loss: 0.5771 - acc: 0.6400\n",
      "Epoch 68/100\n",
      "75/75 - 0s - loss: 0.5755 - acc: 0.6400\n",
      "Epoch 69/100\n",
      "75/75 - 0s - loss: 0.5738 - acc: 0.6533\n",
      "Epoch 70/100\n",
      "75/75 - 0s - loss: 0.5721 - acc: 0.6667\n",
      "Epoch 71/100\n",
      "75/75 - 0s - loss: 0.5704 - acc: 0.6800\n",
      "Epoch 72/100\n",
      "75/75 - 0s - loss: 0.5687 - acc: 0.6800\n",
      "Epoch 73/100\n",
      "75/75 - 0s - loss: 0.5671 - acc: 0.6800\n",
      "Epoch 74/100\n",
      "75/75 - 0s - loss: 0.5654 - acc: 0.6933\n",
      "Epoch 75/100\n",
      "75/75 - 0s - loss: 0.5637 - acc: 0.7067\n",
      "Epoch 76/100\n",
      "75/75 - 0s - loss: 0.5620 - acc: 0.7067\n",
      "Epoch 77/100\n",
      "75/75 - 0s - loss: 0.5603 - acc: 0.7067\n",
      "Epoch 78/100\n",
      "75/75 - 0s - loss: 0.5587 - acc: 0.7067\n",
      "Epoch 79/100\n",
      "75/75 - 0s - loss: 0.5570 - acc: 0.7200\n",
      "Epoch 80/100\n",
      "75/75 - 0s - loss: 0.5555 - acc: 0.7333\n",
      "Epoch 81/100\n",
      "75/75 - 0s - loss: 0.5538 - acc: 0.7333\n",
      "Epoch 82/100\n",
      "75/75 - 0s - loss: 0.5522 - acc: 0.7600\n",
      "Epoch 83/100\n",
      "75/75 - 0s - loss: 0.5506 - acc: 0.7600\n",
      "Epoch 84/100\n",
      "75/75 - 0s - loss: 0.5489 - acc: 0.7600\n",
      "Epoch 85/100\n",
      "75/75 - 0s - loss: 0.5474 - acc: 0.7600\n",
      "Epoch 86/100\n",
      "75/75 - 0s - loss: 0.5458 - acc: 0.7467\n",
      "Epoch 87/100\n",
      "75/75 - 0s - loss: 0.5443 - acc: 0.7600\n",
      "Epoch 88/100\n",
      "75/75 - 0s - loss: 0.5428 - acc: 0.7600\n",
      "Epoch 89/100\n",
      "75/75 - 0s - loss: 0.5413 - acc: 0.7733\n",
      "Epoch 90/100\n",
      "75/75 - 0s - loss: 0.5398 - acc: 0.7733\n",
      "Epoch 91/100\n",
      "75/75 - 0s - loss: 0.5383 - acc: 0.7733\n",
      "Epoch 92/100\n",
      "75/75 - 0s - loss: 0.5368 - acc: 0.7867\n",
      "Epoch 93/100\n",
      "75/75 - 0s - loss: 0.5353 - acc: 0.7867\n",
      "Epoch 94/100\n",
      "75/75 - 0s - loss: 0.5338 - acc: 0.7867\n",
      "Epoch 95/100\n",
      "75/75 - 0s - loss: 0.5324 - acc: 0.7867\n",
      "Epoch 96/100\n",
      "75/75 - 0s - loss: 0.5308 - acc: 0.7867\n",
      "Epoch 97/100\n",
      "75/75 - 0s - loss: 0.5293 - acc: 0.7867\n",
      "Epoch 98/100\n",
      "75/75 - 0s - loss: 0.5278 - acc: 0.7867\n",
      "Epoch 99/100\n",
      "75/75 - 0s - loss: 0.5263 - acc: 0.7867\n",
      "Epoch 100/100\n",
      "75/75 - 0s - loss: 0.5247 - acc: 0.7867\n"
     ]
    },
    {
     "data": {
      "text/plain": [
       "<tensorflow.python.keras.callbacks.History at 0x25cad427708>"
      ]
     },
     "execution_count": 13,
     "metadata": {},
     "output_type": "execute_result"
    }
   ],
   "source": [
    "# Fit the model to the training data\n",
    "model.fit(\n",
    "    X_train_scaled,\n",
    "    y_train_categorical,\n",
    "    epochs=100,\n",
    "    shuffle=True,\n",
    "    verbose=2\n",
    ")"
   ]
  },
  {
   "cell_type": "markdown",
   "metadata": {},
   "source": [
    "# Deep Learning\n",
    "For this network, we simply add an additional hidden layer of 6 nodes"
   ]
  },
  {
   "cell_type": "code",
   "execution_count": 14,
   "metadata": {},
   "outputs": [],
   "source": [
    "deep_model = Sequential()\n",
    "deep_model.add(Dense(units=6, activation='relu', input_dim=2))\n",
    "deep_model.add(Dense(units=6, activation='relu'))\n",
    "deep_model.add(Dense(units=2, activation='softmax'))"
   ]
  },
  {
   "cell_type": "code",
   "execution_count": 15,
   "metadata": {},
   "outputs": [
    {
     "name": "stdout",
     "output_type": "stream",
     "text": [
      "Model: \"sequential_1\"\n",
      "_________________________________________________________________\n",
      "Layer (type)                 Output Shape              Param #   \n",
      "=================================================================\n",
      "dense_2 (Dense)              (None, 6)                 18        \n",
      "_________________________________________________________________\n",
      "dense_3 (Dense)              (None, 6)                 42        \n",
      "_________________________________________________________________\n",
      "dense_4 (Dense)              (None, 2)                 14        \n",
      "=================================================================\n",
      "Total params: 74\n",
      "Trainable params: 74\n",
      "Non-trainable params: 0\n",
      "_________________________________________________________________\n"
     ]
    }
   ],
   "source": [
    "deep_model.summary()"
   ]
  },
  {
   "cell_type": "code",
   "execution_count": 16,
   "metadata": {},
   "outputs": [
    {
     "name": "stdout",
     "output_type": "stream",
     "text": [
      "Epoch 1/100\n",
      "75/75 - 0s - loss: 0.6326 - acc: 0.5200\n",
      "Epoch 2/100\n",
      "75/75 - 0s - loss: 0.6283 - acc: 0.5200\n",
      "Epoch 3/100\n",
      "75/75 - 0s - loss: 0.6242 - acc: 0.5333\n",
      "Epoch 4/100\n",
      "75/75 - 0s - loss: 0.6211 - acc: 0.5467\n",
      "Epoch 5/100\n",
      "75/75 - 0s - loss: 0.6177 - acc: 0.5600\n",
      "Epoch 6/100\n",
      "75/75 - 0s - loss: 0.6144 - acc: 0.5733\n",
      "Epoch 7/100\n",
      "75/75 - 0s - loss: 0.6112 - acc: 0.5867\n",
      "Epoch 8/100\n",
      "75/75 - 0s - loss: 0.6081 - acc: 0.6000\n",
      "Epoch 9/100\n",
      "75/75 - 0s - loss: 0.6055 - acc: 0.6000\n",
      "Epoch 10/100\n",
      "75/75 - 0s - loss: 0.6022 - acc: 0.6133\n",
      "Epoch 11/100\n",
      "75/75 - 0s - loss: 0.5993 - acc: 0.6267\n",
      "Epoch 12/100\n",
      "75/75 - 0s - loss: 0.5965 - acc: 0.6533\n",
      "Epoch 13/100\n",
      "75/75 - 0s - loss: 0.5937 - acc: 0.6533\n",
      "Epoch 14/100\n",
      "75/75 - 0s - loss: 0.5909 - acc: 0.6800\n",
      "Epoch 15/100\n",
      "75/75 - 0s - loss: 0.5882 - acc: 0.6800\n",
      "Epoch 16/100\n",
      "75/75 - 0s - loss: 0.5854 - acc: 0.6800\n",
      "Epoch 17/100\n",
      "75/75 - 0s - loss: 0.5826 - acc: 0.7067\n",
      "Epoch 18/100\n",
      "75/75 - 0s - loss: 0.5799 - acc: 0.7067\n",
      "Epoch 19/100\n",
      "75/75 - 0s - loss: 0.5772 - acc: 0.7067\n",
      "Epoch 20/100\n",
      "75/75 - 0s - loss: 0.5744 - acc: 0.7200\n",
      "Epoch 21/100\n",
      "75/75 - 0s - loss: 0.5716 - acc: 0.7333\n",
      "Epoch 22/100\n",
      "75/75 - 0s - loss: 0.5689 - acc: 0.7333\n",
      "Epoch 23/100\n",
      "75/75 - 0s - loss: 0.5661 - acc: 0.7467\n",
      "Epoch 24/100\n",
      "75/75 - 0s - loss: 0.5634 - acc: 0.7600\n",
      "Epoch 25/100\n",
      "75/75 - 0s - loss: 0.5606 - acc: 0.7600\n",
      "Epoch 26/100\n",
      "75/75 - 0s - loss: 0.5579 - acc: 0.7733\n",
      "Epoch 27/100\n",
      "75/75 - 0s - loss: 0.5552 - acc: 0.7867\n",
      "Epoch 28/100\n",
      "75/75 - 0s - loss: 0.5524 - acc: 0.7867\n",
      "Epoch 29/100\n",
      "75/75 - 0s - loss: 0.5497 - acc: 0.8000\n",
      "Epoch 30/100\n",
      "75/75 - 0s - loss: 0.5470 - acc: 0.8133\n",
      "Epoch 31/100\n",
      "75/75 - 0s - loss: 0.5442 - acc: 0.8267\n",
      "Epoch 32/100\n",
      "75/75 - 0s - loss: 0.5413 - acc: 0.8267\n",
      "Epoch 33/100\n",
      "75/75 - 0s - loss: 0.5385 - acc: 0.8267\n",
      "Epoch 34/100\n",
      "75/75 - 0s - loss: 0.5356 - acc: 0.8267\n",
      "Epoch 35/100\n",
      "75/75 - 0s - loss: 0.5327 - acc: 0.8267\n",
      "Epoch 36/100\n",
      "75/75 - 0s - loss: 0.5298 - acc: 0.8267\n",
      "Epoch 37/100\n",
      "75/75 - 0s - loss: 0.5270 - acc: 0.8400\n",
      "Epoch 38/100\n",
      "75/75 - 0s - loss: 0.5242 - acc: 0.8400\n",
      "Epoch 39/100\n",
      "75/75 - 0s - loss: 0.5212 - acc: 0.8533\n",
      "Epoch 40/100\n",
      "75/75 - 0s - loss: 0.5182 - acc: 0.8533\n",
      "Epoch 41/100\n",
      "75/75 - 0s - loss: 0.5152 - acc: 0.8667\n",
      "Epoch 42/100\n",
      "75/75 - 0s - loss: 0.5123 - acc: 0.8667\n",
      "Epoch 43/100\n",
      "75/75 - 0s - loss: 0.5093 - acc: 0.8667\n",
      "Epoch 44/100\n",
      "75/75 - 0s - loss: 0.5062 - acc: 0.8667\n",
      "Epoch 45/100\n",
      "75/75 - 0s - loss: 0.5031 - acc: 0.8667\n",
      "Epoch 46/100\n",
      "75/75 - 0s - loss: 0.5000 - acc: 0.8800\n",
      "Epoch 47/100\n",
      "75/75 - 0s - loss: 0.4969 - acc: 0.8933\n",
      "Epoch 48/100\n",
      "75/75 - 0s - loss: 0.4939 - acc: 0.9333\n",
      "Epoch 49/100\n",
      "75/75 - 0s - loss: 0.4908 - acc: 0.9333\n",
      "Epoch 50/100\n",
      "75/75 - 0s - loss: 0.4879 - acc: 0.9333\n",
      "Epoch 51/100\n",
      "75/75 - 0s - loss: 0.4848 - acc: 0.9333\n",
      "Epoch 52/100\n",
      "75/75 - 0s - loss: 0.4817 - acc: 0.9333\n",
      "Epoch 53/100\n",
      "75/75 - 0s - loss: 0.4786 - acc: 0.9333\n",
      "Epoch 54/100\n",
      "75/75 - 0s - loss: 0.4754 - acc: 0.9467\n",
      "Epoch 55/100\n",
      "75/75 - 0s - loss: 0.4721 - acc: 0.9467\n",
      "Epoch 56/100\n",
      "75/75 - 0s - loss: 0.4688 - acc: 0.9467\n",
      "Epoch 57/100\n",
      "75/75 - 0s - loss: 0.4654 - acc: 0.9467\n",
      "Epoch 58/100\n",
      "75/75 - 0s - loss: 0.4620 - acc: 0.9600\n",
      "Epoch 59/100\n",
      "75/75 - 0s - loss: 0.4584 - acc: 0.9600\n",
      "Epoch 60/100\n",
      "75/75 - 0s - loss: 0.4550 - acc: 0.9600\n",
      "Epoch 61/100\n",
      "75/75 - 0s - loss: 0.4513 - acc: 0.9733\n",
      "Epoch 62/100\n",
      "75/75 - 0s - loss: 0.4477 - acc: 0.9733\n",
      "Epoch 63/100\n",
      "75/75 - 0s - loss: 0.4442 - acc: 0.9733\n",
      "Epoch 64/100\n",
      "75/75 - 0s - loss: 0.4405 - acc: 0.9733\n",
      "Epoch 65/100\n",
      "75/75 - 0s - loss: 0.4367 - acc: 0.9733\n",
      "Epoch 66/100\n",
      "75/75 - 0s - loss: 0.4331 - acc: 0.9867\n",
      "Epoch 67/100\n",
      "75/75 - 0s - loss: 0.4292 - acc: 0.9867\n",
      "Epoch 68/100\n",
      "75/75 - 0s - loss: 0.4254 - acc: 0.9867\n",
      "Epoch 69/100\n",
      "75/75 - 0s - loss: 0.4215 - acc: 0.9867\n",
      "Epoch 70/100\n",
      "75/75 - 0s - loss: 0.4177 - acc: 0.9867\n",
      "Epoch 71/100\n",
      "75/75 - 0s - loss: 0.4138 - acc: 0.9867\n",
      "Epoch 72/100\n",
      "75/75 - 0s - loss: 0.4100 - acc: 0.9867\n",
      "Epoch 73/100\n",
      "75/75 - 0s - loss: 0.4061 - acc: 0.9867\n",
      "Epoch 74/100\n",
      "75/75 - 0s - loss: 0.4024 - acc: 0.9867\n",
      "Epoch 75/100\n",
      "75/75 - 0s - loss: 0.3984 - acc: 0.9867\n",
      "Epoch 76/100\n",
      "75/75 - 0s - loss: 0.3946 - acc: 0.9867\n",
      "Epoch 77/100\n",
      "75/75 - 0s - loss: 0.3908 - acc: 0.9867\n",
      "Epoch 78/100\n",
      "75/75 - 0s - loss: 0.3870 - acc: 0.9867\n",
      "Epoch 79/100\n",
      "75/75 - 0s - loss: 0.3832 - acc: 0.9867\n",
      "Epoch 80/100\n",
      "75/75 - 0s - loss: 0.3794 - acc: 0.9867\n",
      "Epoch 81/100\n",
      "75/75 - 0s - loss: 0.3757 - acc: 0.9867\n",
      "Epoch 82/100\n",
      "75/75 - 0s - loss: 0.3720 - acc: 0.9867\n",
      "Epoch 83/100\n",
      "75/75 - 0s - loss: 0.3684 - acc: 1.0000\n",
      "Epoch 84/100\n",
      "75/75 - 0s - loss: 0.3648 - acc: 1.0000\n",
      "Epoch 85/100\n",
      "75/75 - 0s - loss: 0.3611 - acc: 1.0000\n",
      "Epoch 86/100\n",
      "75/75 - 0s - loss: 0.3574 - acc: 1.0000\n",
      "Epoch 87/100\n",
      "75/75 - 0s - loss: 0.3537 - acc: 1.0000\n",
      "Epoch 88/100\n",
      "75/75 - 0s - loss: 0.3501 - acc: 1.0000\n",
      "Epoch 89/100\n",
      "75/75 - 0s - loss: 0.3465 - acc: 1.0000\n",
      "Epoch 90/100\n",
      "75/75 - 0s - loss: 0.3427 - acc: 1.0000\n",
      "Epoch 91/100\n",
      "75/75 - 0s - loss: 0.3390 - acc: 1.0000\n",
      "Epoch 92/100\n",
      "75/75 - 0s - loss: 0.3353 - acc: 1.0000\n",
      "Epoch 93/100\n",
      "75/75 - 0s - loss: 0.3317 - acc: 1.0000\n",
      "Epoch 94/100\n",
      "75/75 - 0s - loss: 0.3281 - acc: 1.0000\n",
      "Epoch 95/100\n",
      "75/75 - 0s - loss: 0.3245 - acc: 1.0000\n",
      "Epoch 96/100\n",
      "75/75 - 0s - loss: 0.3209 - acc: 1.0000\n",
      "Epoch 97/100\n",
      "75/75 - 0s - loss: 0.3174 - acc: 1.0000\n",
      "Epoch 98/100\n",
      "75/75 - 0s - loss: 0.3138 - acc: 1.0000\n",
      "Epoch 99/100\n",
      "75/75 - 0s - loss: 0.3102 - acc: 1.0000\n",
      "Epoch 100/100\n",
      "75/75 - 0s - loss: 0.3064 - acc: 1.0000\n"
     ]
    },
    {
     "data": {
      "text/plain": [
       "<tensorflow.python.keras.callbacks.History at 0x25caeb23808>"
      ]
     },
     "execution_count": 16,
     "metadata": {},
     "output_type": "execute_result"
    }
   ],
   "source": [
    "deep_model.compile(optimizer='adam',\n",
    "                   loss='categorical_crossentropy',\n",
    "                   metrics=['accuracy'])\n",
    "\n",
    "deep_model.fit(\n",
    "    X_train_scaled,\n",
    "    y_train_categorical,\n",
    "    epochs=100,\n",
    "    shuffle=True,\n",
    "    verbose=2\n",
    ")"
   ]
  },
  {
   "cell_type": "markdown",
   "metadata": {},
   "source": [
    "# Compare the models below"
   ]
  },
  {
   "cell_type": "code",
   "execution_count": 17,
   "metadata": {},
   "outputs": [
    {
     "name": "stdout",
     "output_type": "stream",
     "text": [
      "25/25 - 0s - loss: 0.5361 - acc: 0.8800\n",
      "Normal Neural Network - Loss: 0.5361342430114746, Accuracy: 0.8799999952316284\n"
     ]
    }
   ],
   "source": [
    "model_loss, model_accuracy = model.evaluate(\n",
    "    X_test_scaled, y_test_categorical, verbose=2)\n",
    "print(\n",
    "    f\"Normal Neural Network - Loss: {model_loss}, Accuracy: {model_accuracy}\")"
   ]
  },
  {
   "cell_type": "code",
   "execution_count": 18,
   "metadata": {},
   "outputs": [
    {
     "name": "stdout",
     "output_type": "stream",
     "text": [
      "25/25 - 0s - loss: 0.3150 - acc: 1.0000\n",
      "Deep Neural Network - Loss: 0.3149823248386383, Accuracy: 1.0\n"
     ]
    }
   ],
   "source": [
    "model_loss, model_accuracy = deep_model.evaluate(\n",
    "    X_test_scaled, y_test_categorical, verbose=2)\n",
    "print(f\"Deep Neural Network - Loss: {model_loss}, Accuracy: {model_accuracy}\")"
   ]
  },
  {
   "cell_type": "markdown",
   "metadata": {},
   "source": [
    "# In a nutshell..."
   ]
  },
  {
   "cell_type": "markdown",
   "metadata": {},
   "source": [
    "![stack more layers](../Images/stack-more-layers.jpg)"
   ]
  }
 ],
 "metadata": {
  "anaconda-cloud": {},
  "kernelspec": {
   "display_name": "Python 3",
   "language": "python",
   "name": "python3"
  },
  "language_info": {
   "codemirror_mode": {
    "name": "ipython",
    "version": 3
   },
   "file_extension": ".py",
   "mimetype": "text/x-python",
   "name": "python",
   "nbconvert_exporter": "python",
   "pygments_lexer": "ipython3",
   "version": "3.7.6"
  },
  "varInspector": {
   "cols": {
    "lenName": 16,
    "lenType": 16,
    "lenVar": 40
   },
   "kernels_config": {
    "python": {
     "delete_cmd_postfix": "",
     "delete_cmd_prefix": "del ",
     "library": "var_list.py",
     "varRefreshCmd": "print(var_dic_list())"
    },
    "r": {
     "delete_cmd_postfix": ") ",
     "delete_cmd_prefix": "rm(",
     "library": "var_list.r",
     "varRefreshCmd": "cat(var_dic_list()) "
    }
   },
   "types_to_exclude": [
    "module",
    "function",
    "builtin_function_or_method",
    "instance",
    "_Feature"
   ],
   "window_display": false
  }
 },
 "nbformat": 4,
 "nbformat_minor": 2
}
